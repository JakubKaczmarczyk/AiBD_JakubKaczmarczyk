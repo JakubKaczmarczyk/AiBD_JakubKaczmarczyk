{
 "cells": [
  {
   "cell_type": "markdown",
   "metadata": {},
   "source": [
    "Zadanie zacząłem od importu oryginalnych danych oraz poprawieniu ich. Rozwinąłem nazwy kolumn aby podział na płcie oraz grupy wiekowe był bardziej czytelny. Wartości NaN zamieniłem na zera. Z danych usunąłem kolumnę zawierającą przedział wiekowy 0-14 dla mężczyzn, ponieważ jest on rozdzielony pomiędzy przedziały 0-4 i 5-14. Usunąłem również wiersze w których kod kraju był wartością NaN. Przetworzone dane zapisałem w formacie csv."
   ]
  },
  {
   "cell_type": "code",
   "execution_count": 44,
   "metadata": {},
   "outputs": [],
   "source": [
    "# drugi zestaw danych\n",
    "\n",
    "import matplotlib.pyplot as plt\n",
    "import csv\n",
    "import os\n",
    "import pandas as pd\n",
    "import numpy as np\n",
    "\n",
    "# Access to file\n",
    "tb_path = os.getcwd()\n",
    "tb_path = tb_path[:-14]+\"\\Original Data\\\\tb.csv\"\n",
    "\n",
    "df = pd.read_csv(tb_path)\n",
    "data = df.columns\n",
    "\n",
    "# renaming columns\n",
    "line_1 = list(data)\n",
    "columns_names = ['Country', 'Year', 'New cases']\n",
    "\n",
    "for col_name in line_1[3:]:\n",
    "    col_name = col_name[7:]\n",
    "    if col_name[0] == 'm':\n",
    "        new_col_name = \"Male \"\n",
    "    elif col_name[0] == 'f':\n",
    "        new_col_name = \"Female \"    \n",
    "    col_name = col_name[1:]\n",
    "    if len(col_name) == 2:\n",
    "        if col_name == \"65\":\n",
    "            new_col_name += \"65\"\n",
    "        else:\n",
    "            new_col_name += col_name[0] + \"-\" + col_name[1]\n",
    "    elif len(col_name) == 3:\n",
    "        new_col_name += col_name[0] + \"-\" + col_name[1:] \n",
    "    elif len(col_name) == 4:\n",
    "        new_col_name += col_name[0:2] + \"-\" + col_name[2:]    \n",
    "    elif col_name == 'u':\n",
    "        new_col_name += '65+'    \n",
    "    columns_names.append(new_col_name)\n",
    "\n",
    "df.columns = columns_names\n",
    "\n",
    "# dropping an unnecessary column\n",
    "df.drop('Male 0-14',inplace=True,axis=1)\n",
    "# replacing NaN to zeros\n",
    "df = df.replace(np.nan,0)\n",
    "\n",
    "# dropping incorrect rows (country: NaN)\n",
    "range_incorect_countries = np.arange(3691,3714,1)\n",
    "df = df.drop(labels=range_incorect_countries, axis=0)\n",
    "\n",
    "# saving data\n",
    "df.to_csv(\"tbv2.csv\")\n"
   ]
  },
  {
   "cell_type": "code",
   "execution_count": null,
   "metadata": {},
   "outputs": [],
   "source": []
  }
 ],
 "metadata": {
  "interpreter": {
   "hash": "b3ba2566441a7c06988d0923437866b63cedc61552a5af99d1f4fb67d367b25f"
  },
  "kernelspec": {
   "display_name": "Python 3.8.8 64-bit ('base': conda)",
   "name": "python3"
  },
  "language_info": {
   "codemirror_mode": {
    "name": "ipython",
    "version": 3
   },
   "file_extension": ".py",
   "mimetype": "text/x-python",
   "name": "python",
   "nbconvert_exporter": "python",
   "pygments_lexer": "ipython3",
   "version": "3.8.8"
  },
  "orig_nbformat": 4
 },
 "nbformat": 4,
 "nbformat_minor": 2
}
