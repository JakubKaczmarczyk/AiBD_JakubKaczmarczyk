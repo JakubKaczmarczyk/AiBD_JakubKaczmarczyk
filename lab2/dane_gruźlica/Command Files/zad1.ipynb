{
 "cells": [
  {
   "cell_type": "code",
   "execution_count": 73,
   "metadata": {},
   "outputs": [
    {
     "data": {
      "text/plain": [
       "Country           AD\n",
       "Year            1980\n",
       "Sum                 \n",
       "Male 0-4            \n",
       "Male 5-14           \n",
       "Male 15-24          \n",
       "Male 25-34          \n",
       "Male 35-44          \n",
       "Male 45-54          \n",
       "Male 55-64          \n",
       "Male 65             \n",
       "Male 65+            \n",
       "Female 0-4          \n",
       "Female 5-14         \n",
       "Female 0-14         \n",
       "Female 15-24        \n",
       "Female 25-34        \n",
       "Female 35-44        \n",
       "Female 45-54        \n",
       "Female 55-64        \n",
       "Female 65           \n",
       "Female 65+          \n",
       "dtype: object"
      ]
     },
     "execution_count": 73,
     "metadata": {},
     "output_type": "execute_result"
    }
   ],
   "source": [
    "# drugi zestaw danych\n",
    "\n",
    "\n",
    "import csv\n",
    "import os\n",
    "import pandas as pd\n",
    "\n",
    "# Access to file\n",
    "tb_path = os.getcwd()\n",
    "tb_path = tb_path[:-14]+\"\\Original Data\\\\tb.csv\"\n",
    "\n",
    "with open(tb_path, newline='') as f:\n",
    "    reader = csv.reader(f)\n",
    "    data = list(reader)\n",
    "\n",
    "# renaming columns\n",
    "line_1 = data[0:1][0]\n",
    "columns_names = ['Country', 'Year', 'Sum']\n",
    "\n",
    "for col_name in line_1[3:]:\n",
    "    col_name = col_name[7:]\n",
    "    if col_name[0] == 'm':\n",
    "        new_col_name = \"Male \"\n",
    "    elif col_name[0] == 'f':\n",
    "        new_col_name = \"Female \"    \n",
    "    col_name = col_name[1:]\n",
    "    if len(col_name) == 2:\n",
    "        if col_name == \"65\":\n",
    "            new_col_name += \"65\"\n",
    "        else:\n",
    "            new_col_name += col_name[0] + \"-\" + col_name[1]\n",
    "    elif len(col_name) == 3:\n",
    "        new_col_name += col_name[0] + \"-\" + col_name[1:] \n",
    "    elif len(col_name) == 4:\n",
    "        new_col_name += col_name[0:2] + \"-\" + col_name[2:]    \n",
    "    elif col_name == 'u':\n",
    "        new_col_name += '65+'    \n",
    "    columns_names.append(new_col_name)\n",
    "\n",
    "\n",
    "# creating DataFrame\n",
    "df = pd.DataFrame(data[1:],columns=columns_names)\n",
    "# dropping an unnecessary column\n",
    "df.drop('Male 0-14',inplace=True,axis=1)\n",
    "# check data \n",
    "df.max()\n",
    "df.min()\n",
    "\n"
   ]
  },
  {
   "cell_type": "code",
   "execution_count": null,
   "metadata": {},
   "outputs": [],
   "source": []
  }
 ],
 "metadata": {
  "interpreter": {
   "hash": "b3ba2566441a7c06988d0923437866b63cedc61552a5af99d1f4fb67d367b25f"
  },
  "kernelspec": {
   "display_name": "Python 3.8.8 64-bit ('base': conda)",
   "name": "python3"
  },
  "language_info": {
   "codemirror_mode": {
    "name": "ipython",
    "version": 3
   },
   "file_extension": ".py",
   "mimetype": "text/x-python",
   "name": "python",
   "nbconvert_exporter": "python",
   "pygments_lexer": "ipython3",
   "version": "3.8.8"
  },
  "orig_nbformat": 4
 },
 "nbformat": 4,
 "nbformat_minor": 2
}
