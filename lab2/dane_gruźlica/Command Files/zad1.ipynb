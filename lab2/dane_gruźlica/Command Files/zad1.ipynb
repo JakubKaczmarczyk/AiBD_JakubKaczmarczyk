{
 "cells": [
  {
   "cell_type": "code",
   "execution_count": 43,
   "metadata": {},
   "outputs": [
    {
     "name": "stdout",
     "output_type": "stream",
     "text": [
      "<class 'pandas.core.frame.DataFrame'>\n"
     ]
    },
    {
     "data": {
      "text/plain": [
       "0       False\n",
       "1       False\n",
       "2       False\n",
       "3       False\n",
       "4       False\n",
       "        ...  \n",
       "5764    False\n",
       "5765    False\n",
       "5766    False\n",
       "5767    False\n",
       "5768    False\n",
       "Name: Male 0-4, Length: 5769, dtype: bool"
      ]
     },
     "execution_count": 43,
     "metadata": {},
     "output_type": "execute_result"
    }
   ],
   "source": [
    "# drugi zestaw danych\n",
    "\n",
    "\n",
    "import csv\n",
    "import os\n",
    "import pandas as pd\n",
    "import numpy as np\n",
    "\n",
    "# Access to file\n",
    "tb_path = os.getcwd()\n",
    "tb_path = tb_path[:-14]+\"\\Original Data\\\\tb.csv\"\n",
    "\n",
    "# with open(tb_path, newline='') as f:\n",
    "#     reader = csv.reader(f)\n",
    "#     data = list(reader)\n",
    "\n",
    "data = pd.read_csv(tb_path)\n",
    "print(type(data))\n",
    "df = data\n",
    "data = df.columns\n",
    "\n",
    "# renaming columns\n",
    "# print(data)\n",
    "line_1 = list(data)\n",
    "# print(line_1)\n",
    "columns_names = ['Country', 'Year', 'Sum']\n",
    "\n",
    "for col_name in line_1[3:]:\n",
    "    col_name = col_name[7:]\n",
    "    if col_name[0] == 'm':\n",
    "        new_col_name = \"Male \"\n",
    "    elif col_name[0] == 'f':\n",
    "        new_col_name = \"Female \"    \n",
    "    col_name = col_name[1:]\n",
    "    if len(col_name) == 2:\n",
    "        if col_name == \"65\":\n",
    "            new_col_name += \"65\"\n",
    "        else:\n",
    "            new_col_name += col_name[0] + \"-\" + col_name[1]\n",
    "    elif len(col_name) == 3:\n",
    "        new_col_name += col_name[0] + \"-\" + col_name[1:] \n",
    "    elif len(col_name) == 4:\n",
    "        new_col_name += col_name[0:2] + \"-\" + col_name[2:]    \n",
    "    elif col_name == 'u':\n",
    "        new_col_name += '65+'    \n",
    "    columns_names.append(new_col_name)\n",
    "\n",
    "df.columns = columns_names\n",
    "# # creating DataFrame\n",
    "# df = pd.DataFrame(data[1:],columns=columns_names)\n",
    "# dropping an unnecessary column\n",
    "df.drop('Male 0-14',inplace=True,axis=1)\n",
    "# check data \n",
    "# print(df['Male 0-4'] != '')\n",
    "# df.max()\n",
    "# df.min()\n",
    "df.replace(np.nan, 0)\n",
    "df['Male 0-4'] == 'nan'\n",
    "\n"
   ]
  },
  {
   "cell_type": "code",
   "execution_count": null,
   "metadata": {},
   "outputs": [],
   "source": []
  }
 ],
 "metadata": {
  "interpreter": {
   "hash": "b3ba2566441a7c06988d0923437866b63cedc61552a5af99d1f4fb67d367b25f"
  },
  "kernelspec": {
   "display_name": "Python 3.8.8 64-bit ('base': conda)",
   "name": "python3"
  },
  "language_info": {
   "codemirror_mode": {
    "name": "ipython",
    "version": 3
   },
   "file_extension": ".py",
   "mimetype": "text/x-python",
   "name": "python",
   "nbconvert_exporter": "python",
   "pygments_lexer": "ipython3",
   "version": "3.8.8"
  },
  "orig_nbformat": 4
 },
 "nbformat": 4,
 "nbformat_minor": 2
}
